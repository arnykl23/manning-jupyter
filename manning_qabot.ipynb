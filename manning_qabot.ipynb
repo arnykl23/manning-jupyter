{
  "nbformat": 4,
  "nbformat_minor": 0,
  "metadata": {
    "colab": {
      "provenance": [],
      "gpuType": "T4"
    },
    "kernelspec": {
      "name": "python3",
      "display_name": "Python 3"
    },
    "language_info": {
      "name": "python"
    },
    "accelerator": "GPU"
  },
  "cells": [
    {
      "cell_type": "code",
      "execution_count": 1,
      "metadata": {
        "colab": {
          "base_uri": "https://localhost:8080/"
        },
        "collapsed": true,
        "id": "TNrT-rECPZaJ",
        "outputId": "a84b60f1-1152-4f71-c6bc-2e6af0f8ee7f"
      },
      "outputs": [
        {
          "output_type": "stream",
          "name": "stdout",
          "text": [
            "Requirement already satisfied: transformers in /usr/local/lib/python3.11/dist-packages (4.55.0)\n",
            "Requirement already satisfied: filelock in /usr/local/lib/python3.11/dist-packages (from transformers) (3.18.0)\n",
            "Requirement already satisfied: huggingface-hub<1.0,>=0.34.0 in /usr/local/lib/python3.11/dist-packages (from transformers) (0.34.4)\n",
            "Requirement already satisfied: numpy>=1.17 in /usr/local/lib/python3.11/dist-packages (from transformers) (2.0.2)\n",
            "Requirement already satisfied: packaging>=20.0 in /usr/local/lib/python3.11/dist-packages (from transformers) (25.0)\n",
            "Requirement already satisfied: pyyaml>=5.1 in /usr/local/lib/python3.11/dist-packages (from transformers) (6.0.2)\n",
            "Requirement already satisfied: regex!=2019.12.17 in /usr/local/lib/python3.11/dist-packages (from transformers) (2024.11.6)\n",
            "Requirement already satisfied: requests in /usr/local/lib/python3.11/dist-packages (from transformers) (2.32.3)\n",
            "Requirement already satisfied: tokenizers<0.22,>=0.21 in /usr/local/lib/python3.11/dist-packages (from transformers) (0.21.4)\n",
            "Requirement already satisfied: safetensors>=0.4.3 in /usr/local/lib/python3.11/dist-packages (from transformers) (0.6.2)\n",
            "Requirement already satisfied: tqdm>=4.27 in /usr/local/lib/python3.11/dist-packages (from transformers) (4.67.1)\n",
            "Requirement already satisfied: fsspec>=2023.5.0 in /usr/local/lib/python3.11/dist-packages (from huggingface-hub<1.0,>=0.34.0->transformers) (2025.3.0)\n",
            "Requirement already satisfied: typing-extensions>=3.7.4.3 in /usr/local/lib/python3.11/dist-packages (from huggingface-hub<1.0,>=0.34.0->transformers) (4.14.1)\n",
            "Requirement already satisfied: hf-xet<2.0.0,>=1.1.3 in /usr/local/lib/python3.11/dist-packages (from huggingface-hub<1.0,>=0.34.0->transformers) (1.1.7)\n",
            "Requirement already satisfied: charset-normalizer<4,>=2 in /usr/local/lib/python3.11/dist-packages (from requests->transformers) (3.4.3)\n",
            "Requirement already satisfied: idna<4,>=2.5 in /usr/local/lib/python3.11/dist-packages (from requests->transformers) (3.10)\n",
            "Requirement already satisfied: urllib3<3,>=1.21.1 in /usr/local/lib/python3.11/dist-packages (from requests->transformers) (2.5.0)\n",
            "Requirement already satisfied: certifi>=2017.4.17 in /usr/local/lib/python3.11/dist-packages (from requests->transformers) (2025.8.3)\n"
          ]
        }
      ],
      "source": [
        "pip install transformers"
      ]
    },
    {
      "cell_type": "code",
      "source": [
        "pip install pyTelegramBotAPI"
      ],
      "metadata": {
        "colab": {
          "base_uri": "https://localhost:8080/"
        },
        "collapsed": true,
        "id": "sJi2rKD9PhuN",
        "outputId": "912be9ed-d04b-42f6-bfbc-b083c1934105"
      },
      "execution_count": 2,
      "outputs": [
        {
          "output_type": "stream",
          "name": "stdout",
          "text": [
            "Requirement already satisfied: pyTelegramBotAPI in /usr/local/lib/python3.11/dist-packages (4.28.0)\n",
            "Requirement already satisfied: aiohttp in /usr/local/lib/python3.11/dist-packages (from pyTelegramBotAPI) (3.12.15)\n",
            "Requirement already satisfied: pytest in /usr/local/lib/python3.11/dist-packages (from pyTelegramBotAPI) (8.4.1)\n",
            "Requirement already satisfied: requests in /usr/local/lib/python3.11/dist-packages (from pyTelegramBotAPI) (2.32.3)\n",
            "Requirement already satisfied: wheel in /usr/local/lib/python3.11/dist-packages (from pyTelegramBotAPI) (0.45.1)\n",
            "Requirement already satisfied: aiohappyeyeballs>=2.5.0 in /usr/local/lib/python3.11/dist-packages (from aiohttp->pyTelegramBotAPI) (2.6.1)\n",
            "Requirement already satisfied: aiosignal>=1.4.0 in /usr/local/lib/python3.11/dist-packages (from aiohttp->pyTelegramBotAPI) (1.4.0)\n",
            "Requirement already satisfied: attrs>=17.3.0 in /usr/local/lib/python3.11/dist-packages (from aiohttp->pyTelegramBotAPI) (25.3.0)\n",
            "Requirement already satisfied: frozenlist>=1.1.1 in /usr/local/lib/python3.11/dist-packages (from aiohttp->pyTelegramBotAPI) (1.7.0)\n",
            "Requirement already satisfied: multidict<7.0,>=4.5 in /usr/local/lib/python3.11/dist-packages (from aiohttp->pyTelegramBotAPI) (6.6.4)\n",
            "Requirement already satisfied: propcache>=0.2.0 in /usr/local/lib/python3.11/dist-packages (from aiohttp->pyTelegramBotAPI) (0.3.2)\n",
            "Requirement already satisfied: yarl<2.0,>=1.17.0 in /usr/local/lib/python3.11/dist-packages (from aiohttp->pyTelegramBotAPI) (1.20.1)\n",
            "Requirement already satisfied: iniconfig>=1 in /usr/local/lib/python3.11/dist-packages (from pytest->pyTelegramBotAPI) (2.1.0)\n",
            "Requirement already satisfied: packaging>=20 in /usr/local/lib/python3.11/dist-packages (from pytest->pyTelegramBotAPI) (25.0)\n",
            "Requirement already satisfied: pluggy<2,>=1.5 in /usr/local/lib/python3.11/dist-packages (from pytest->pyTelegramBotAPI) (1.6.0)\n",
            "Requirement already satisfied: pygments>=2.7.2 in /usr/local/lib/python3.11/dist-packages (from pytest->pyTelegramBotAPI) (2.19.2)\n",
            "Requirement already satisfied: charset-normalizer<4,>=2 in /usr/local/lib/python3.11/dist-packages (from requests->pyTelegramBotAPI) (3.4.3)\n",
            "Requirement already satisfied: idna<4,>=2.5 in /usr/local/lib/python3.11/dist-packages (from requests->pyTelegramBotAPI) (3.10)\n",
            "Requirement already satisfied: urllib3<3,>=1.21.1 in /usr/local/lib/python3.11/dist-packages (from requests->pyTelegramBotAPI) (2.5.0)\n",
            "Requirement already satisfied: certifi>=2017.4.17 in /usr/local/lib/python3.11/dist-packages (from requests->pyTelegramBotAPI) (2025.8.3)\n",
            "Requirement already satisfied: typing-extensions>=4.2 in /usr/local/lib/python3.11/dist-packages (from aiosignal>=1.4.0->aiohttp->pyTelegramBotAPI) (4.14.1)\n"
          ]
        }
      ]
    },
    {
      "cell_type": "code",
      "source": [
        "pip install wikipedia"
      ],
      "metadata": {
        "colab": {
          "base_uri": "https://localhost:8080/"
        },
        "collapsed": true,
        "id": "k9fKXL8GPknt",
        "outputId": "ff6a03f5-fb6b-40f1-8056-134915a4c81b"
      },
      "execution_count": 3,
      "outputs": [
        {
          "output_type": "stream",
          "name": "stdout",
          "text": [
            "Requirement already satisfied: wikipedia in /usr/local/lib/python3.11/dist-packages (1.4.0)\n",
            "Requirement already satisfied: beautifulsoup4 in /usr/local/lib/python3.11/dist-packages (from wikipedia) (4.13.4)\n",
            "Requirement already satisfied: requests<3.0.0,>=2.0.0 in /usr/local/lib/python3.11/dist-packages (from wikipedia) (2.32.3)\n",
            "Requirement already satisfied: charset-normalizer<4,>=2 in /usr/local/lib/python3.11/dist-packages (from requests<3.0.0,>=2.0.0->wikipedia) (3.4.3)\n",
            "Requirement already satisfied: idna<4,>=2.5 in /usr/local/lib/python3.11/dist-packages (from requests<3.0.0,>=2.0.0->wikipedia) (3.10)\n",
            "Requirement already satisfied: urllib3<3,>=1.21.1 in /usr/local/lib/python3.11/dist-packages (from requests<3.0.0,>=2.0.0->wikipedia) (2.5.0)\n",
            "Requirement already satisfied: certifi>=2017.4.17 in /usr/local/lib/python3.11/dist-packages (from requests<3.0.0,>=2.0.0->wikipedia) (2025.8.3)\n",
            "Requirement already satisfied: soupsieve>1.2 in /usr/local/lib/python3.11/dist-packages (from beautifulsoup4->wikipedia) (2.7)\n",
            "Requirement already satisfied: typing-extensions>=4.0.0 in /usr/local/lib/python3.11/dist-packages (from beautifulsoup4->wikipedia) (4.14.1)\n"
          ]
        }
      ]
    },
    {
      "cell_type": "code",
      "source": [
        "from transformers import pipeline\n",
        "import telebot\n",
        "import wikipedia"
      ],
      "metadata": {
        "id": "whh3ReChPo4a"
      },
      "execution_count": 4,
      "outputs": []
    },
    {
      "cell_type": "code",
      "source": [
        "API_KEY = \"NOPE\"\n",
        "\n",
        "qabot = telebot.TeleBot(API_KEY)\n",
        "qatask = pipeline(\"question-answering\")\n",
        "ansType = 0\n",
        "topic = \"\"\n",
        "summary = \"\""
      ],
      "metadata": {
        "colab": {
          "base_uri": "https://localhost:8080/"
        },
        "id": "rCnMzABxPugy",
        "outputId": "2c523969-f32b-481d-f694-82d4fe946355"
      },
      "execution_count": 28,
      "outputs": [
        {
          "output_type": "stream",
          "name": "stderr",
          "text": [
            "No model was supplied, defaulted to distilbert/distilbert-base-cased-distilled-squad and revision 564e9b5 (https://huggingface.co/distilbert/distilbert-base-cased-distilled-squad).\n",
            "Using a pipeline without specifying a model name and revision in production is not recommended.\n",
            "Device set to use cuda:0\n"
          ]
        }
      ]
    },
    {
      "cell_type": "code",
      "source": [
        "@qabot.message_handler(func=lambda message: True)\n",
        "def answer_the_user(message):\n",
        "\n",
        "  global ansType\n",
        "  global topic\n",
        "  global summary\n",
        "\n",
        "  if ansType == 0:\n",
        "    qabot.reply_to(message, \"Hello! Tell me a subject you'd like to ask about.\")\n",
        "    ansType = 1\n",
        "    return\n",
        "\n",
        "  if ansType == 1:\n",
        "    topic = message.text\n",
        "    results = wikipedia.search(topic)\n",
        "    summary = wikipedia.summary(results[0])\n",
        "    print(\"Input: {}\\nDetected page: {}\".format(topic,results))\n",
        "    qabot.reply_to(message, \"Sure. What question do you have about {}?\".format(topic))\n",
        "    ansType = 2\n",
        "    return\n",
        "\n",
        "  if ansType == 2:\n",
        "    ans = qatask(context=summary, question=message.text)\n",
        "    print(list(ans.values()))\n",
        "    qabot.reply_to(message, \"{}. Great question! What do you want to talk about next?\".format(list(ans.values())[3]))\n",
        "    ansType = 1\n",
        "    return"
      ],
      "metadata": {
        "id": "YXH0-JaaQTob"
      },
      "execution_count": 29,
      "outputs": []
    },
    {
      "cell_type": "code",
      "source": [
        "qabot.polling()"
      ],
      "metadata": {
        "colab": {
          "base_uri": "https://localhost:8080/"
        },
        "id": "Pb1JB8kPUaln",
        "outputId": "53fcf103-1334-458f-abd8-8c59280af7bb"
      },
      "execution_count": 30,
      "outputs": [
        {
          "output_type": "stream",
          "name": "stdout",
          "text": [
            "Input: Like a Dragon Gaiden\n",
            "Detected page: ['Like a Dragon Gaiden: The Man Who Erased His Name', 'Like a Dragon: Pirate Yakuza in Hawaii', 'Yakuza (franchise)', 'Yakuza: Like a Dragon', 'Kazuma Kiryu', 'Like a Dragon: Infinite Wealth', 'Goro Majima', 'Ninja Gaiden 4', 'Ninja Gaiden: Dragon Sword', 'Ninja Gaiden']\n",
            "[0.9807522892951965, 392, 404, 'secret agent']\n",
            "Input: Like a Dragon Gaiden\n",
            "Detected page: ['Like a Dragon Gaiden: The Man Who Erased His Name', 'Like a Dragon: Pirate Yakuza in Hawaii', 'Yakuza (franchise)', 'Yakuza: Like a Dragon', 'Kazuma Kiryu', 'Like a Dragon: Infinite Wealth', 'Goro Majima', 'Ninja Gaiden 4', 'Ninja Gaiden: Dragon Sword', 'Ninja Gaiden']\n",
            "[0.125629723072052, 490, 524, 'Yakuza: Like a Dragon and its 2024']\n",
            "Input: Like a Dragon: Infinite Wealth\n",
            "Detected page: ['Like a Dragon: Infinite Wealth', 'Like a Dragon: Pirate Yakuza in Hawaii', 'Yakuza: Like a Dragon', 'Like a Dragon Gaiden: The Man Who Erased His Name', 'Yakuza (franchise)', 'Kazuma Kiryu', 'Goro Majima', 'Ichiban Kasuga', 'SungWon Cho', 'Ray Chase (voice actor)']\n",
            "[0.6445540332351811, 801, 807, 'Hawaii']\n"
          ]
        }
      ]
    }
  ]
}
